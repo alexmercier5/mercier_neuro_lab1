{
 "cells": [
  {
   "cell_type": "code",
   "execution_count": 16,
   "metadata": {},
   "outputs": [],
   "source": [
    "import numpy as np\n",
    "import matplotlib.pyplot as plt\n",
    "\n",
    "import nengo\n",
    "from nengo.dists import Uniform\n",
    "from nengo.processes import WhiteSignal\n",
    "from nengo.processes import Piecewise\n",
    "from nengo.utils.ensemble import tuning_curves\n",
    "from nengo.utils.ipython import hide_input\n",
    "from nengo.utils.matplotlib import rasterplot\n",
    "from scipy.stats import norm"
   ]
  },
  {
   "cell_type": "code",
   "execution_count": 29,
   "metadata": {},
   "outputs": [],
   "source": [
    "# Makes the tuning curves perfectly spaced out\n",
    "def aligned(n_neurons, radius=0.6):\n",
    "    intercepts = np.linspace(-radius, radius, n_neurons)  # even spaced from -.6 to .6\n",
    "    encoders = np.tile(\n",
    "        [[1], [-1]], (n_neurons // 2, 1)\n",
    "    )  # half care about negative, half positive\n",
    "    intercepts *= encoders[:, 0]\n",
    "    return intercepts, encoders\n",
    "\n",
    "\n",
    "# define parameters to ease changing values\n",
    "intercepts, encoders = aligned(250)\n",
    "num_neurons = 250\n",
    "rate = 200\n",
    "radii = 5\n",
    "\n",
    "model = nengo.Network(label=\"Mercier Lab1\")\n",
    "\n",
    "with model:\n",
    "    # define input signal\n",
    "    inp = nengo.Node(\n",
    "        Piecewise({0: -5, 1: -2, 2: 3, 3: 5, 4: -2})\n",
    "    )  # input node/signal (piecewise function)\n",
    "\n",
    "    # define ensembles\n",
    "    A = nengo.Ensemble(\n",
    "        num_neurons,\n",
    "        dimensions=1,\n",
    "        max_rates=Uniform(rate, rate),\n",
    "        intercepts=intercepts,\n",
    "        encoders=encoders,\n",
    "        radius=radii,\n",
    "    )\n",
    "    B = nengo.Ensemble(\n",
    "        num_neurons,\n",
    "        dimensions=1,\n",
    "        max_rates=Uniform(rate, rate),\n",
    "        intercepts=intercepts,\n",
    "        encoders=encoders,\n",
    "        radius=radii,\n",
    "    )\n",
    "    C = nengo.Ensemble(\n",
    "        num_neurons,\n",
    "        dimensions=1,\n",
    "        max_rates=Uniform(rate, rate),\n",
    "        intercepts=intercepts,\n",
    "        encoders=encoders,\n",
    "        radius=radii,\n",
    "    )\n",
    "    D = nengo.Ensemble(\n",
    "        num_neurons,\n",
    "        dimensions=1,\n",
    "        max_rates=Uniform(rate, rate),\n",
    "        intercepts=intercepts,\n",
    "        encoders=encoders,\n",
    "        radius=radii,\n",
    "    )\n",
    "    E = nengo.Ensemble(\n",
    "        num_neurons,\n",
    "        dimensions=1,\n",
    "        max_rates=Uniform(rate, rate),\n",
    "        intercepts=intercepts,\n",
    "        encoders=encoders,\n",
    "        radius=radii,\n",
    "    )\n",
    "\n",
    "    # define output node\n",
    "    out = nengo.Node(size_in=1)\n",
    "\n",
    "    # define functions used for computations\n",
    "    def reLu_func(x):\n",
    "        return np.maximum(0, x)\n",
    "\n",
    "    def abs_func(x):\n",
    "        return np.absolute(x)\n",
    "\n",
    "    def invert_func(x):\n",
    "        return x * (-1)\n",
    "\n",
    "    def lin_func(x):\n",
    "        return (2 * x) - 5\n",
    "\n",
    "    def norm_func(x):\n",
    "        return nengo.utils.numpy.norm(x)\n",
    "\n",
    "    # connect input node to ensemble\n",
    "    nengo.Connection(inp, A)\n",
    "\n",
    "    syn_func = 0.005\n",
    "    # connect ensembles to define weights (functions)\n",
    "    nengo.Connection(A, B, function=reLu_func, synapse=syn_func)\n",
    "    nengo.Connection(B, C, function=invert_func, synapse=syn_func)\n",
    "    nengo.Connection(C, out, function=norm_func, synapse=syn_func)\n",
    "\n",
    "    nengo.Connection(A, D, function=abs_func, synapse=syn_func)\n",
    "    nengo.Connection(D, E, function=lin_func, synapse=syn_func)\n",
    "    nengo.Connection(E, out, function=norm_func, synapse=syn_func)"
   ]
  },
  {
   "cell_type": "code",
   "execution_count": 30,
   "metadata": {},
   "outputs": [
    {
     "data": {
      "application/vdom.v1+json": {
       "attributes": {},
       "tagName": "div"
      },
      "text/html": [
       "\n",
       "                <script>\n",
       "                    if (Jupyter.version.split(\".\")[0] < 5) {\n",
       "                        var pb = document.getElementById(\"74d987b5-57e3-4f8c-855d-a8915f58f4b3\");\n",
       "                        var text = document.createTextNode(\n",
       "                            \"HMTL progress bar requires Jupyter Notebook >= \" +\n",
       "                            \"5.0 or Jupyter Lab. Alternatively, you can use \" +\n",
       "                            \"TerminalProgressBar().\");\n",
       "                        pb.parentNode.insertBefore(text, pb);\n",
       "                    }\n",
       "                </script>\n",
       "                <div id=\"74d987b5-57e3-4f8c-855d-a8915f58f4b3\" style=\"\n",
       "                    width: 100%;\n",
       "                    border: 1px solid #cfcfcf;\n",
       "                    border-radius: 4px;\n",
       "                    text-align: center;\n",
       "                    position: relative;\">\n",
       "                  <div class=\"pb-text\" style=\"\n",
       "                      position: absolute;\n",
       "                      width: 100%;\">\n",
       "                    0%\n",
       "                  </div>\n",
       "                  <div class=\"pb-fill\" style=\"\n",
       "                      background-color: #bdd2e6;\n",
       "                      width: 0%;\">\n",
       "                    <style type=\"text/css\" scoped=\"scoped\">\n",
       "                        @keyframes pb-fill-anim {\n",
       "                            0% { background-position: 0 0; }\n",
       "                            100% { background-position: 100px 0; }\n",
       "                        }\n",
       "                    </style>\n",
       "                    &nbsp;\n",
       "                  </div>\n",
       "                </div>"
      ],
      "text/plain": [
       "HtmlProgressBar cannot be displayed. Please use the TerminalProgressBar. It can be enabled with `nengo.rc['progress']['progress_bar'] = 'nengo.utils.progress.TerminalProgressBar'`."
      ]
     },
     "metadata": {},
     "output_type": "display_data"
    },
    {
     "data": {
      "application/vdom.v1+json": {
       "attributes": {
        "id": "49fc53b1-2d20-44a9-a152-de9f963aa16e",
        "style": {
         "border": "1px solid #cfcfcf",
         "borderRadius": "4px",
         "boxSizing": "border-box",
         "position": "relative",
         "textAlign": "center",
         "width": "100%"
        }
       },
       "children": [
        {
         "attributes": {
          "class": "pb-text",
          "style": {
           "position": "absolute",
           "width": "100%"
          }
         },
         "children": [
          "Build finished in 0:00:03."
         ],
         "tagName": "div"
        },
        {
         "attributes": {
          "class": "pb-fill",
          "style": {
           "animation": "none",
           "backgroundColor": "#bdd2e6",
           "backgroundImage": "none",
           "backgroundSize": "100px 100%",
           "width": "100%"
          }
         },
         "children": [
          {
           "attributes": {
            "scoped": "scoped",
            "type": "text/css"
           },
           "children": [
            "\n                        @keyframes pb-fill-anim {\n                            0% { background-position: 0 0; }\n                            100% { background-position: 100px 0; }\n                        }}"
           ],
           "tagName": "style"
          },
          " "
         ],
         "tagName": "div"
        }
       ],
       "tagName": "div"
      },
      "text/html": [
       "<script>\n",
       "              (function () {\n",
       "                  var root = document.getElementById('74d987b5-57e3-4f8c-855d-a8915f58f4b3');\n",
       "                  var text = root.getElementsByClassName('pb-text')[0];\n",
       "                  var fill = root.getElementsByClassName('pb-fill')[0];\n",
       "\n",
       "                  text.innerHTML = 'Build finished in 0:00:03.';\n",
       "                  \n",
       "            fill.style.width = '100%';\n",
       "            fill.style.animation = 'pb-fill-anim 2s linear infinite';\n",
       "            fill.style.backgroundSize = '100px 100%';\n",
       "            fill.style.backgroundImage = 'repeating-linear-gradient(' +\n",
       "                '90deg, #bdd2e6, #edf2f8 40%, #bdd2e6 80%, #bdd2e6)';\n",
       "        \n",
       "                  \n",
       "                fill.style.animation = 'none';\n",
       "                fill.style.backgroundImage = 'none';\n",
       "            \n",
       "              })();\n",
       "        </script>"
      ]
     },
     "metadata": {},
     "output_type": "display_data"
    },
    {
     "data": {
      "application/vdom.v1+json": {
       "attributes": {},
       "tagName": "div"
      },
      "text/html": [
       "\n",
       "                <script>\n",
       "                    if (Jupyter.version.split(\".\")[0] < 5) {\n",
       "                        var pb = document.getElementById(\"ba406148-b282-43fc-a196-86e7f829fc49\");\n",
       "                        var text = document.createTextNode(\n",
       "                            \"HMTL progress bar requires Jupyter Notebook >= \" +\n",
       "                            \"5.0 or Jupyter Lab. Alternatively, you can use \" +\n",
       "                            \"TerminalProgressBar().\");\n",
       "                        pb.parentNode.insertBefore(text, pb);\n",
       "                    }\n",
       "                </script>\n",
       "                <div id=\"ba406148-b282-43fc-a196-86e7f829fc49\" style=\"\n",
       "                    width: 100%;\n",
       "                    border: 1px solid #cfcfcf;\n",
       "                    border-radius: 4px;\n",
       "                    text-align: center;\n",
       "                    position: relative;\">\n",
       "                  <div class=\"pb-text\" style=\"\n",
       "                      position: absolute;\n",
       "                      width: 100%;\">\n",
       "                    0%\n",
       "                  </div>\n",
       "                  <div class=\"pb-fill\" style=\"\n",
       "                      background-color: #bdd2e6;\n",
       "                      width: 0%;\">\n",
       "                    <style type=\"text/css\" scoped=\"scoped\">\n",
       "                        @keyframes pb-fill-anim {\n",
       "                            0% { background-position: 0 0; }\n",
       "                            100% { background-position: 100px 0; }\n",
       "                        }\n",
       "                    </style>\n",
       "                    &nbsp;\n",
       "                  </div>\n",
       "                </div>"
      ],
      "text/plain": [
       "HtmlProgressBar cannot be displayed. Please use the TerminalProgressBar. It can be enabled with `nengo.rc['progress']['progress_bar'] = 'nengo.utils.progress.TerminalProgressBar'`."
      ]
     },
     "metadata": {},
     "output_type": "display_data"
    },
    {
     "data": {
      "application/vdom.v1+json": {
       "attributes": {
        "id": "7e69e597-1fb1-412e-83be-b4dafaa8e14c",
        "style": {
         "border": "1px solid #cfcfcf",
         "borderRadius": "4px",
         "boxSizing": "border-box",
         "position": "relative",
         "textAlign": "center",
         "width": "100%"
        }
       },
       "children": [
        {
         "attributes": {
          "class": "pb-text",
          "style": {
           "position": "absolute",
           "width": "100%"
          }
         },
         "children": [
          "Simulation finished in 0:00:25."
         ],
         "tagName": "div"
        },
        {
         "attributes": {
          "class": "pb-fill",
          "style": {
           "animation": "none",
           "backgroundColor": "#bdd2e6",
           "backgroundImage": "none",
           "transition": "width 0.1s linear",
           "width": "100%"
          }
         },
         "children": [
          {
           "attributes": {
            "scoped": "scoped",
            "type": "text/css"
           },
           "children": [
            "\n                        @keyframes pb-fill-anim {\n                            0% { background-position: 0 0; }\n                            100% { background-position: 100px 0; }\n                        }}"
           ],
           "tagName": "style"
          },
          " "
         ],
         "tagName": "div"
        }
       ],
       "tagName": "div"
      },
      "text/html": [
       "<script>\n",
       "              (function () {\n",
       "                  var root = document.getElementById('ba406148-b282-43fc-a196-86e7f829fc49');\n",
       "                  var text = root.getElementsByClassName('pb-text')[0];\n",
       "                  var fill = root.getElementsByClassName('pb-fill')[0];\n",
       "\n",
       "                  text.innerHTML = 'Simulation finished in 0:00:25.';\n",
       "                  \n",
       "            if (100.0 > 0.) {\n",
       "                fill.style.transition = 'width 0.1s linear';\n",
       "            } else {\n",
       "                fill.style.transition = 'none';\n",
       "            }\n",
       "\n",
       "            fill.style.width = '100.0%';\n",
       "            fill.style.animation = 'none';\n",
       "            fill.style.backgroundImage = 'none'\n",
       "        \n",
       "                  \n",
       "                fill.style.animation = 'none';\n",
       "                fill.style.backgroundImage = 'none';\n",
       "            \n",
       "              })();\n",
       "        </script>"
      ]
     },
     "metadata": {},
     "output_type": "display_data"
    }
   ],
   "source": [
    "syn_val = 0.0075\n",
    "# probe everything\n",
    "with model:\n",
    "    inp_probe = nengo.Probe(inp)\n",
    "    A_probe = nengo.Probe(A, synapse=syn_val)\n",
    "    B_probe = nengo.Probe(B, synapse=syn_val)\n",
    "    C_probe = nengo.Probe(C, synapse=syn_val)\n",
    "    D_probe = nengo.Probe(D, synapse=syn_val)\n",
    "    E_probe = nengo.Probe(E, synapse=syn_val)\n",
    "    out_probe = nengo.Probe(out, synapse=syn_val)\n",
    "\n",
    "    # create simulator\n",
    "    with nengo.Simulator(model) as sim:\n",
    "        # Run it for 5 seconds\n",
    "        sim.run(5)"
   ]
  },
  {
   "cell_type": "code",
   "execution_count": 31,
   "metadata": {},
   "outputs": [
    {
     "data": {
      "text/plain": [
       "(-10.0, 10.0)"
      ]
     },
     "execution_count": 31,
     "metadata": {},
     "output_type": "execute_result"
    },
    {
     "data": {
      "image/png": "[encoded data removed]",
      "text/plain": [
       "<Figure size 640x480 with 1 Axes>"
      ]
     },
     "metadata": {},
     "output_type": "display_data"
    }
   ],
   "source": [
    "# Plot the probed data\n",
    "plt.figure()\n",
    "plt.plot(sim.trange(), sim.data[inp_probe], label=\"Input\")\n",
    "plt.plot(sim.trange(), sim.data[A_probe], label=\"Decoded input\")\n",
    "plt.plot(sim.trange(), sim.data[out_probe], label=\"Decoded output\")\n",
    "plt.legend(loc=\"best\")\n",
    "plt.ylim(-10, 10)"
   ]
  }
 ],
 "metadata": {
  "kernelspec": {
   "display_name": "495venv",
   "language": "python",
   "name": "python3"
  },
  "language_info": {
   "codemirror_mode": {
    "name": "ipython",
    "version": 3
   },
   "file_extension": ".py",
   "mimetype": "text/x-python",
   "name": "python",
   "nbconvert_exporter": "python",
   "pygments_lexer": "ipython3",
   "version": "3.10.11"
  }
 },
 "nbformat": 4,
 "nbformat_minor": 2
}
